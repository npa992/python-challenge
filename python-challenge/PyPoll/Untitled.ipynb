{
 "cells": [
  {
   "cell_type": "code",
   "execution_count": 1,
   "metadata": {},
   "outputs": [],
   "source": [
    "import pandas as pd\n",
    "file_path = ('Resources/election_data.csv')\n",
    "election_data=pd.read_csv(file_path)\n",
    "results = election_data['Candidate'].value_counts()\n",
    "candidate = election_data['Candidate'].value_counts().index\n",
    "results_percentages = (election_data['Candidate'].value_counts(1)*100)\n",
    "total_votes=election_data['Candidate'].count()\n"
   ]
  },
  {
   "cell_type": "code",
   "execution_count": 2,
   "metadata": {},
   "outputs": [],
   "source": [
    "final_result = pd.DataFrame({'Candidate':candidate,'Results':results,'Results %':results_percentages})\n",
    "final_result.to_csv('results.csv',index=False)\n",
    "index_winner=list(final_result['Results']).index(final_result['Results'].max())\n",
    "winner=final_result['Candidate'].index[index_winner]\n",
    "winner_votes=final_result['Results'].max()"
   ]
  },
  {
   "cell_type": "code",
   "execution_count": 4,
   "metadata": {},
   "outputs": [],
   "source": [
    "file=open('results.txt','w')\n",
    "file.write('The results are as follows:')\n",
    "file.write('\\n')\n",
    "file.write(f'Total Votes:{total_votes}')\n",
    "file.write('\\n')\n",
    "file.write(f'{candidate[0]}:{results[0]}, {round(results_percentages[0],2)}%')\n",
    "file.write('\\n')\n",
    "file.write(f'{candidate[1]}:{results[1]}, {round(results_percentages[1],2)}%')\n",
    "file.write('\\n')\n",
    "file.write(f'{candidate[2]}:{results[1]}, {round(results_percentages[2],2)}%')\n",
    "file.write('\\n')\n",
    "file.write(f'{candidate[3]}:{results[1]}, {round(results_percentages[3],2)}%')\n",
    "file.write('\\n')\n",
    "file.write(f'The winner was:{winner} with {winner_votes}votes')\n",
    "file.close()"
   ]
  },
  {
   "cell_type": "code",
   "execution_count": null,
   "metadata": {},
   "outputs": [],
   "source": [
    "county_vote = election_data.groupby(['County','Candidate'])\n",
    "county_result = county_vote.count()\n",
    "county_vote1=election_data.groupby(['County'])\n",
    "count_series=pd.DataFrame(county_vote1['Candidate'].count())\n",
    "county_result_df=pd.DataFrame(county_result)\n",
    "county_result_df['Results %']=county_result_df['Voter ID']/county_result_df['Voter ID'].sum()\n",
    "county_result_df\n"
   ]
  },
  {
   "cell_type": "code",
   "execution_count": null,
   "metadata": {},
   "outputs": [],
   "source": [
    "\n",
    "    "
   ]
  },
  {
   "cell_type": "code",
   "execution_count": null,
   "metadata": {},
   "outputs": [],
   "source": []
  }
 ],
 "metadata": {
  "kernelspec": {
   "display_name": "Python 3",
   "language": "python",
   "name": "python3"
  },
  "language_info": {
   "codemirror_mode": {
    "name": "ipython",
    "version": 3
   },
   "file_extension": ".py",
   "mimetype": "text/x-python",
   "name": "python",
   "nbconvert_exporter": "python",
   "pygments_lexer": "ipython3",
   "version": "3.7.0"
  }
 },
 "nbformat": 4,
 "nbformat_minor": 2
}
